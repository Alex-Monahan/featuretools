{
 "cells": [
  {
   "cell_type": "markdown",
   "metadata": {
    "colab_type": "text",
    "id": "XHbnFqpw_oAw"
   },
   "source": [
    "<a href=\"https://colab.research.google.com/github/featuretools/featuretools/blob/colab/demo_notebooks/getting_started.ipynb\" target=\"_parent\"><img src=\"https://colab.research.google.com/assets/colab-badge.svg\" alt=\"Open In Colab\"/></a>"
   ]
  },
  {
   "cell_type": "markdown",
   "metadata": {
    "colab_type": "text",
    "id": "jbmcbY-A_oA4"
   },
   "source": [
    "# Feature primitives\n",
    "\n",
    "Feature primitives are the building blocks of Featuretools. They define individual computations that can be applied to raw datasets to create new features. Because a primitive only constrains the input and output data types, they can be applied across datasets and can stack to create new calculations.\n",
    "\n"
   ]
  },
  {
   "cell_type": "markdown",
   "metadata": {
    "colab_type": "text",
    "id": "HjQ5lZwl_oA6"
   },
   "source": [
    "## Using Google Colab with Featuretools\n",
    "\n",
    "* Google [Colaboratory](http://colab.research.google.com) is a cloud service based on Jupyter Notebooks.\n",
    "* Using [Featuretools](http://www.featuretools.com) is simple as installing with pip and upgrading to the latest version. We need to make sure the correct version for pandas, and numpy are installed. "
   ]
  },
  {
   "cell_type": "code",
   "execution_count": null,
   "metadata": {
    "colab": {
     "base_uri": "https://localhost:8080/",
     "height": 69
    },
    "colab_type": "code",
    "id": "FvlyOIo7_oA7",
    "outputId": "c0aea859-21d2-419b-831a-e32e6fce099e"
   },
   "outputs": [],
   "source": [
    "!pip install featuretools --upgrade"
   ]
  },
  {
   "cell_type": "markdown",
   "metadata": {
    "colab_type": "text",
    "id": "Ktl6tUJGAYG0"
   },
   "source": [
    "### You will now need to restart the Google runtime in toolbar.\n",
    "* **Runtime -> Restart Runtime...**"
   ]
  },
  {
   "cell_type": "code",
   "execution_count": null,
   "metadata": {
    "colab": {
     "base_uri": "https://localhost:8080/",
     "height": 35
    },
    "colab_type": "code",
    "id": "XvvSVn77_1J6",
    "outputId": "478df794-3857-49d2-b898-79cac6ef91a2"
   },
   "outputs": [],
   "source": [
    "import featuretools as ft\n",
    "import pandas as pd\n",
    "import numpy as np\n",
    "\n",
    "print('featuretools == %s' % ft.__version__)\n",
    "print('pandas == %s' % pd.__version__)\n",
    "print('numpy == %s' % np.__version__)"
   ]
  },
  {
   "cell_type": "markdown",
   "metadata": {},
   "source": [
    "* Verify `featuretools` version is >= 0.6.0\n",
    "* Verify `pandas` version is >= 0.23.0\n",
    "* Verify `numpy` version is >= 1.13.3"
   ]
  },
  {
   "cell_type": "markdown",
   "metadata": {},
   "source": [
    "## Why primitives?\n",
    "\n",
    "The space of potential functions that humans use to create a feature is expansive. By breaking common feature engineering calculations down into primitive components, we are able to capture the underlying structure of the features humans create today.\n",
    "\n",
    "A primitive only constrains the input and output data types. This means they can be used to transfer calculations known in one domain to another. Consider a feature which is often calculated by data scientists for transactional or event logs data: `average time between events`. This feature is incredibly valuable in predicting fraudulent behavior or future customer engagement.\n",
    "\n",
    "DFS achieves the same feature by stacking two primitives ``\"time_since_previous\"`` and ``\"mean\"``\n",
    "\n"
   ]
  },
  {
   "cell_type": "code",
   "execution_count": null,
   "metadata": {},
   "outputs": [],
   "source": [
    "import featuretools as ft\n",
    "es = ft.demo.load_mock_customer(return_entityset=True)\n",
    "\n",
    "feature_defs = ft.dfs(entityset=es,\n",
    "                      target_entity=\"customers\",\n",
    "                      agg_primitives=[\"mean\"],\n",
    "                      trans_primitives=[\"time_since_previous\"],\n",
    "                      features_only=True)\n",
    "feature_defs"
   ]
  },
  {
   "cell_type": "markdown",
   "metadata": {},
   "source": [
    "> **When ``dfs`` is called with ``features_only=True``, only feature definitions are returned as output. By default this parameter is set to ``False``. This parameter is used quickly inspect the feature definitions before the spending time calculating the feature matrix.** \n",
    "\n",
    "\n",
    "A second advantage of primitives is that they can be used to quickly enumerate many interesting features in a parameterized way. This is used by Deep Feature Synthesis to get several different ways of summarizing the time since the previous event."
   ]
  },
  {
   "cell_type": "code",
   "execution_count": null,
   "metadata": {},
   "outputs": [],
   "source": [
    "feature_matrix, feature_defs = ft.dfs(entityset=es,\n",
    "                                      target_entity=\"customers\",\n",
    "                                      agg_primitives=[\"mean\", \"max\", \"min\", \"std\", \"skew\"],\n",
    "                                      trans_primitives=[\"time_since_previous\"])\n",
    "\n",
    "feature_matrix[[\"MEAN(sessions.time_since_previous_by_customer_id)\",\n",
    "                \"MAX(sessions.time_since_previous_by_customer_id)\",\n",
    "                \"MIN(sessions.time_since_previous_by_customer_id)\",\n",
    "                \"STD(sessions.time_since_previous_by_customer_id)\",\n",
    "                \"SKEW(sessions.time_since_previous_by_customer_id)\"]]"
   ]
  },
  {
   "cell_type": "markdown",
   "metadata": {},
   "source": [
    "## Aggregation vs Transform Primitive\n",
    "\n",
    "In the example above, we use two types of primitives.\n",
    "\n",
    "**Aggregation primitives:** These primitives take related instances as an input and output a single value. They are applied across a parent-child relationship in an entity set. E.g: ``\"count\"``, ``\"sum\"``, ``\"avg_time_between\"``.\n",
    "\n",
    "**Transform primitives:** These primitives take one or more variables from an entity as an input and output a new variable for that entity. They are applied to a single entity. E.g: ``\"hour\"``, ``\"time_since_previous\"``, ``\"absolute\"``.\n",
    "\n",
    "For a DataFrame that lists and describes each built-in primitive in Featuretools, call ``ft.list_primitives()``.\n",
    "\n"
   ]
  },
  {
   "cell_type": "code",
   "execution_count": null,
   "metadata": {},
   "outputs": [],
   "source": [
    "ft.list_primitives().head(5)"
   ]
  },
  {
   "cell_type": "markdown",
   "metadata": {},
   "source": [
    "## Defining Custom Primitives\n",
    "\n",
    "The library of primitives in Featuretools is constantly expanding.  Users can define their own primitive using the APIs below.  To define a primitive, a user will\n",
    "\n",
    "\n",
    "  * Specify the type of primitive ``Aggregation`` or ``Transform``\n",
    "  * Define the input and output data types\n",
    "  * Write a function in python to do the calculation\n",
    "  * Annotate with attributes to constrain how it is applied\n",
    "\n",
    "\n",
    "Once a primitive is defined, it can stack with existing primitives to generate complex patterns. This enables primitives known to be important for one domain to automatically be transfered to another.\n",
    "\n",
    "## Simple Custom Primitives"
   ]
  },
  {
   "cell_type": "code",
   "execution_count": null,
   "metadata": {},
   "outputs": [],
   "source": [
    "from featuretools.primitives import make_agg_primitive, make_trans_primitive\n",
    "from featuretools.variable_types import Text, Numeric\n",
    "\n",
    "def absolute(column):\n",
    "    return abs(column)\n",
    "\n",
    "Absolute = make_trans_primitive(function=absolute,\n",
    "                                input_types=[Numeric],\n",
    "                                return_type=Numeric)"
   ]
  },
  {
   "cell_type": "markdown",
   "metadata": {},
   "source": [
    "Above we created a new transform primitive that can be used with Deep Feature Synthesis using :meth:`make_trans_primitive <featuretools.primitives.make_trans_primitive>` and a python function we defined.  Additionally, we annotated the input data types that the primitive can be applied to and the data type it returns.\n",
    "\n",
    "Similarly, we can make a new aggregation primitive using :meth:`make_agg_primitive <featuretools.primitives.make_agg_primitive>`."
   ]
  },
  {
   "cell_type": "code",
   "execution_count": null,
   "metadata": {},
   "outputs": [],
   "source": [
    "def maximum(column):\n",
    "    return max(column)\n",
    "\n",
    "Maximum = make_agg_primitive(function=maximum,\n",
    "                          input_types=[Numeric],\n",
    "                          return_type=Numeric)"
   ]
  },
  {
   "cell_type": "markdown",
   "metadata": {},
   "source": [
    "Because we defined an aggregation primitive, the function takes in a list of values but only returns one.\n",
    "\n",
    "Now that we've defined two primitives, we can use them with the dfs function as if they were built-in primitives."
   ]
  },
  {
   "cell_type": "code",
   "execution_count": null,
   "metadata": {},
   "outputs": [],
   "source": [
    "feature_matrix, feature_defs = ft.dfs(entityset=es,\n",
    "                                      target_entity=\"sessions\",\n",
    "                                      agg_primitives=[Maximum],\n",
    "                                      trans_primitives=[Absolute],\n",
    "                                      max_depth=2)\n",
    "\n",
    "feature_matrix[[\"customers.MAXIMUM(transactions.amount)\", \"MAXIMUM(transactions.ABSOLUTE(amount))\"]].head(5)"
   ]
  },
  {
   "cell_type": "markdown",
   "metadata": {},
   "source": [
    "## Word Count Example\n",
    "Here we define a function, ``word_count``, which counts the number of words in each row of an input and returns a  list of the counts."
   ]
  },
  {
   "cell_type": "code",
   "execution_count": null,
   "metadata": {},
   "outputs": [],
   "source": [
    "def word_count(column):\n",
    "    '''\n",
    "    Counts the number of words in each row of the column. Returns a list\n",
    "    of the counts for each row.\n",
    "    '''\n",
    "    word_counts = []\n",
    "    for value in column:\n",
    "        words = value.split(None)\n",
    "        word_counts.append(len(words))\n",
    "    return word_counts"
   ]
  },
  {
   "cell_type": "markdown",
   "metadata": {},
   "source": [
    "Next, we need to create a custom primitive from the ``word_count`` function."
   ]
  },
  {
   "cell_type": "code",
   "execution_count": null,
   "metadata": {},
   "outputs": [],
   "source": [
    "WordCount = make_trans_primitive(function=word_count,\n",
    "                                 input_types=[Text],\n",
    "                                 return_type=Numeric)"
   ]
  },
  {
   "cell_type": "code",
   "execution_count": null,
   "metadata": {},
   "outputs": [],
   "source": [
    "from featuretools.tests.testing_utils import make_ecommerce_entityset\n",
    "es = make_ecommerce_entityset()"
   ]
  },
  {
   "cell_type": "markdown",
   "metadata": {},
   "source": [
    "Since WordCount is a transform primitive, we need to add it to the list of transform primitives DFS can use when generating features."
   ]
  },
  {
   "cell_type": "code",
   "execution_count": null,
   "metadata": {},
   "outputs": [],
   "source": [
    "feature_matrix, features = ft.dfs(entityset=es,\n",
    "                                  target_entity=\"sessions\",\n",
    "                                  agg_primitives=[\"sum\", \"mean\", \"std\"],\n",
    "                                  trans_primitives=[WordCount])\n",
    "\n",
    "feature_matrix[[\"customers.WORD_COUNT(favorite_quote)\", \"STD(log.WORD_COUNT(comments))\", \"SUM(log.WORD_COUNT(comments))\", \"MEAN(log.WORD_COUNT(comments))\"]]"
   ]
  },
  {
   "cell_type": "markdown",
   "metadata": {},
   "source": [
    "By adding some aggregation primitives as well, Deep Feature Synthesis was able to make four new features from one new primitive.\n",
    "\n",
    "## Multiple Input Types\n",
    "If a primitive requires multiple features as input, ``input_types`` has multiple elements, eg ``[Numeric, Numeric]`` would mean the primitive requires two Numeric features as input.  Below is an example of a primitive that has multiple input features."
   ]
  },
  {
   "cell_type": "code",
   "execution_count": null,
   "metadata": {},
   "outputs": [],
   "source": [
    "from featuretools.variable_types import Datetime, Timedelta, Variable\n",
    "import pandas as pd\n",
    "\n",
    "def mean_sunday(numeric, datetime):\n",
    "    '''\n",
    "    Finds the mean of non-null values of a feature that occurred on Sundays\n",
    "    '''\n",
    "    days = pd.DatetimeIndex(datetime).weekday.values\n",
    "    df = pd.DataFrame({'numeric': numeric, 'time': days})\n",
    "    return df[df['time'] == 6]['numeric'].mean()\n",
    "\n",
    "MeanSunday = make_agg_primitive(function=mean_sunday,\n",
    "                                 input_types=[Numeric, Datetime],\n",
    "                                 return_type=Numeric)\n",
    "\n",
    "feature_matrix, features = ft.dfs(entityset=es,\n",
    "                                  target_entity=\"sessions\",\n",
    "                                  agg_primitives=[MeanSunday],\n",
    "                                  trans_primitives=[],\n",
    "                                  max_depth=1)\n",
    "feature_matrix[[\"MEAN_SUNDAY(log.value, datetime)\", \"MEAN_SUNDAY(log.value_2, datetime)\"]]"
   ]
  }
 ],
 "metadata": {
  "colab": {
   "name": "getting_started.ipynb",
   "provenance": [],
   "version": "0.3.2"
  },
  "kernelspec": {
   "display_name": "Python 3",
   "language": "python",
   "name": "python3"
  },
  "language_info": {
   "codemirror_mode": {
    "name": "ipython",
    "version": 3
   },
   "file_extension": ".py",
   "mimetype": "text/x-python",
   "name": "python",
   "nbconvert_exporter": "python",
   "pygments_lexer": "ipython3",
   "version": "3.6.8"
  }
 },
 "nbformat": 4,
 "nbformat_minor": 1
}
