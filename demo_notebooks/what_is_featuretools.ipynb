{
 "cells": [
  {
   "cell_type": "markdown",
   "metadata": {
    "colab_type": "text",
    "id": "XHbnFqpw_oAw"
   },
   "source": [
    "<a href=\"https://colab.research.google.com/github/featuretools/colab_notebook/blob/master/getting_started.ipynb\" target=\"_parent\"><img src=\"https://colab.research.google.com/assets/colab-badge.svg\" alt=\"Open In Colab\"/></a>"
   ]
  },
  {
   "cell_type": "markdown",
   "metadata": {
    "colab_type": "text",
    "id": "jbmcbY-A_oA4"
   },
   "source": [
    "# What is Featuretools?\n",
    "<img src=\"https://docs.featuretools.com/_images/featuretools-logo.png\" alt=\"Featuretools\" width=\"500\"/>\n",
    "\n",
    "**Featuretools** is a framework to perform automated feature engineering. It excels at transforming temporal and relational datasets into feature matrices for machine learning.\n"
   ]
  },
  {
   "cell_type": "markdown",
   "metadata": {
    "colab_type": "text",
    "id": "HjQ5lZwl_oA6"
   },
   "source": [
    "## Using Google Colab with Featuretools\n",
    "\n",
    "* Google [Colaboratory](http://colab.research.google.com) is a cloud service based on Jupyter Notebooks.\n",
    "* Using [Featuretools](http://www.featuretools.com) is simple as installing with pip and upgrading to the latest version. We need to make sure the correct version for pandas, and numpy are installed. "
   ]
  },
  {
   "cell_type": "code",
   "execution_count": null,
   "metadata": {
    "colab": {
     "base_uri": "https://localhost:8080/",
     "height": 69
    },
    "colab_type": "code",
    "id": "FvlyOIo7_oA7",
    "outputId": "c0aea859-21d2-419b-831a-e32e6fce099e"
   },
   "outputs": [],
   "source": [
    "!pip install featuretools --upgrade"
   ]
  },
  {
   "cell_type": "markdown",
   "metadata": {
    "colab_type": "text",
    "id": "Ktl6tUJGAYG0"
   },
   "source": [
    "### You will now need to restart the Google runtime in toolbar.\n",
    "* **Runtime -> Restart Runtime...**"
   ]
  },
  {
   "cell_type": "code",
   "execution_count": null,
   "metadata": {
    "colab": {
     "base_uri": "https://localhost:8080/",
     "height": 35
    },
    "colab_type": "code",
    "id": "XvvSVn77_1J6",
    "outputId": "478df794-3857-49d2-b898-79cac6ef91a2"
   },
   "outputs": [],
   "source": [
    "import featuretools as ft\n",
    "import pandas as pd\n",
    "import numpy as np\n",
    "\n",
    "print('featuretools == %s' % ft.__version__)\n",
    "print('pandas == %s' % pd.__version__)\n",
    "print('numpy == %s' % np.__version__)"
   ]
  },
  {
   "cell_type": "markdown",
   "metadata": {},
   "source": [
    "* Verify `featuretools` version is >= 0.6.0\n",
    "* Verify `pandas` version is >= 0.23.0\n",
    "* Verify `numpy` version is >= 1.13.3"
   ]
  },
  {
   "cell_type": "markdown",
   "metadata": {
    "colab_type": "text",
    "id": "7Sb2ESSw_oBD"
   },
   "source": [
    "## 5 Minute Quick Start\n",
    "\n",
    "Below is an example of using Deep Feature Synthesis (DFS) to perform automated feature engineering. In this example, we apply DFS to a multi-table dataset consisting of timestamped customer transactions."
   ]
  },
  {
   "cell_type": "code",
   "execution_count": null,
   "metadata": {
    "colab": {},
    "colab_type": "code",
    "id": "1WrJRJqh_oBF"
   },
   "outputs": [],
   "source": [
    "import featuretools as ft"
   ]
  },
  {
   "cell_type": "markdown",
   "metadata": {
    "colab_type": "text",
    "id": "b3A4ivrw_oBJ"
   },
   "source": [
    "## Load Mock Data"
   ]
  },
  {
   "cell_type": "code",
   "execution_count": null,
   "metadata": {
    "colab": {},
    "colab_type": "code",
    "id": "r7WD8Ug4_oBK"
   },
   "outputs": [],
   "source": [
    "data = ft.demo.load_mock_customer()"
   ]
  },
  {
   "cell_type": "markdown",
   "metadata": {
    "colab_type": "text",
    "id": "ChwuO17B_oBQ"
   },
   "source": [
    "## Prepare data\n",
    "In this toy dataset, there are 3 tables. Each table is called an ``entity`` in Featuretools.\n",
    "\n",
    "* **customers**: unique customers who had sessions\n",
    "* **sessions**: unique sessions and associated attributes\n",
    "* **transactions**: list of events in this session\n",
    "* **products**: list of products involved in the transactions."
   ]
  },
  {
   "cell_type": "code",
   "execution_count": null,
   "metadata": {
    "colab": {
     "base_uri": "https://localhost:8080/",
     "height": 202
    },
    "colab_type": "code",
    "id": "CmCrPy9y_oBS",
    "outputId": "ebd5e1f5-f63e-4da8-c24f-dfcadfb11bdd"
   },
   "outputs": [],
   "source": [
    "customers_df = data[\"customers\"]\n",
    "customers_df"
   ]
  },
  {
   "cell_type": "code",
   "execution_count": null,
   "metadata": {
    "colab": {
     "base_uri": "https://localhost:8080/",
     "height": 202
    },
    "colab_type": "code",
    "id": "20Tas69F_oBW",
    "outputId": "d34941ee-153c-4c29-fefc-af185dc832c7"
   },
   "outputs": [],
   "source": [
    "sessions_df = data[\"sessions\"]\n",
    "sessions_df.sample(5)"
   ]
  },
  {
   "cell_type": "code",
   "execution_count": null,
   "metadata": {
    "colab": {
     "base_uri": "https://localhost:8080/",
     "height": 202
    },
    "colab_type": "code",
    "id": "U9yMd1gj_oBb",
    "outputId": "f31a40ac-81de-443c-cb99-030569d3368d"
   },
   "outputs": [],
   "source": [
    "transactions_df = data[\"transactions\"]\n",
    "transactions_df.sample(5)"
   ]
  },
  {
   "cell_type": "code",
   "execution_count": null,
   "metadata": {},
   "outputs": [],
   "source": [
    "products_df = data['products']\n",
    "products_df"
   ]
  },
  {
   "cell_type": "markdown",
   "metadata": {
    "colab_type": "text",
    "id": "q-30_1iv_oBi"
   },
   "source": [
    "First, we specify a name for the EntitySet."
   ]
  },
  {
   "cell_type": "code",
   "execution_count": null,
   "metadata": {},
   "outputs": [],
   "source": [
    "es = ft.EntitySet(id=\"transactions\")"
   ]
  },
  {
   "cell_type": "markdown",
   "metadata": {},
   "source": [
    "Second, we specify the entity dataframes, along with the applicable attributes, such as the index for the entity."
   ]
  },
  {
   "cell_type": "code",
   "execution_count": null,
   "metadata": {},
   "outputs": [],
   "source": [
    "es = es.entity_from_dataframe(entity_id=\"transactions\",\n",
    "                              dataframe=transactions_df,\n",
    "                              index=\"transaction_id\",\n",
    "                              time_index=\"transaction_time\",\n",
    "                              variable_types={\"product_id\": ft.variable_types.Categorical})\n",
    "\n",
    "es = es.entity_from_dataframe(entity_id=\"products\",\n",
    "                              dataframe=products_df,\n",
    "                              index=\"product_id\")\n",
    "\n",
    "es = es.entity_from_dataframe(entity_id=\"sessions\",\n",
    "                              dataframe=sessions_df,\n",
    "                              index=\"session_id\",\n",
    "                              time_index=\"session_start\")\n",
    "\n",
    "es = es.entity_from_dataframe(entity_id=\"customers\",\n",
    "                              dataframe=customers_df,\n",
    "                              index=\"customer_id\",\n",
    "                              time_index=\"join_date\",\n",
    "                              variable_types={\"zip_code\": ft.variable_types.Categorical})"
   ]
  },
  {
   "cell_type": "markdown",
   "metadata": {
    "colab_type": "text",
    "id": "e5phV1Wf_oBp"
   },
   "source": [
    "Third, we specify how the entities are related. When two entities have a one-to-many relationship, we call the \"one\" enitity, the \"parent entity\". A relationship between a parent and child is defined like this:\n",
    "```python\n",
    "(parent_entity, child_entity)\n",
    "```"
   ]
  },
  {
   "cell_type": "markdown",
   "metadata": {
    "colab_type": "text",
    "id": "AMAPRiJZ_oBr"
   },
   "source": [
    "In this dataset we have two relationships"
   ]
  },
  {
   "cell_type": "code",
   "execution_count": null,
   "metadata": {
    "colab": {},
    "colab_type": "code",
    "id": "eKefKKla_oBs"
   },
   "outputs": [],
   "source": [
    "relationships =[ft.Relationship(es[\"products\"][\"product_id\"], es[\"transactions\"][\"product_id\"]),\n",
    "                ft.Relationship(es[\"sessions\"][\"session_id\"], es[\"transactions\"][\"session_id\"]),\n",
    "                ft.Relationship(es[\"customers\"][\"customer_id\"], es[\"sessions\"][\"customer_id\"])]"
   ]
  },
  {
   "cell_type": "markdown",
   "metadata": {
    "colab_type": "text",
    "id": "jDa5QyH3_oBy"
   },
   "source": [
    "## Run Deep Feature Synthesis\n",
    "\n",
    "A minimal input to DFS is a entityset, and the \"target_entity\" to calculate features for. The ouput of DFS is a feature matrix and the corresponding list of feature defintions.\n",
    "\n",
    "Let's first create a feature matrix for each customer in the data"
   ]
  },
  {
   "cell_type": "code",
   "execution_count": null,
   "metadata": {
    "colab": {
     "base_uri": "https://localhost:8080/",
     "height": 282
    },
    "colab_type": "code",
    "id": "69GxNihZ_oBz",
    "outputId": "a44fe2ae-f397-4791-b59a-8f11f9c89386"
   },
   "outputs": [],
   "source": [
    "feature_matrix_customers, features_defs = ft.dfs(entityset=es,\n",
    "                                                 target_entity=\"customers\")\n",
    "feature_matrix_customers"
   ]
  },
  {
   "cell_type": "markdown",
   "metadata": {
    "colab_type": "text",
    "id": "JjCgFBjU_oB4"
   },
   "source": [
    "We now have dozens of new features to describe a customer's behavior.\n",
    "\n",
    "\n",
    "## Change target entity\n",
    "\n",
    "One of the reasons DFS is so powerful is that it can create a feature matrix for *any* entity in our data. For example, if we wanted to build features for sessions."
   ]
  },
  {
   "cell_type": "code",
   "execution_count": null,
   "metadata": {
    "colab": {
     "base_uri": "https://localhost:8080/",
     "height": 282
    },
    "colab_type": "code",
    "id": "dJ-DXEko_oB5",
    "outputId": "1f4e18e5-0c8f-416f-dc7b-7af6c7177f23"
   },
   "outputs": [],
   "source": [
    "feature_matrix_sessions, features_defs = ft.dfs(entityset=es,\n",
    "                                                target_entity=\"sessions\")\n",
    "feature_matrix_sessions.head(5)"
   ]
  },
  {
   "cell_type": "markdown",
   "metadata": {
    "colab_type": "text",
    "id": "kzJAidCw_oB8"
   },
   "source": [
    "## What's next?\n",
    "\n",
    "\n",
    "* Learn about [Representing Data with Entityset](https://docs.featuretools.com/loading_data/using_entitysets.html)\n",
    "* Apply automated feature engineering with [Deep Feature Synthesis](https://docs.featuretools.com/automated_feature_engineering/afe.html)\n",
    "* Can't find what you're looking for? Ask for [Help](https://docs.featuretools.com/help.html)"
   ]
  }
 ],
 "metadata": {
  "colab": {
   "name": "getting_started.ipynb",
   "provenance": [],
   "version": "0.3.2"
  },
  "kernelspec": {
   "display_name": "Python 3",
   "language": "python",
   "name": "python3"
  },
  "language_info": {
   "codemirror_mode": {
    "name": "ipython",
    "version": 3
   },
   "file_extension": ".py",
   "mimetype": "text/x-python",
   "name": "python",
   "nbconvert_exporter": "python",
   "pygments_lexer": "ipython3",
   "version": "3.6.8"
  }
 },
 "nbformat": 4,
 "nbformat_minor": 1
}
