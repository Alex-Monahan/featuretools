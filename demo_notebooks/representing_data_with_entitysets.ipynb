{
 "cells": [
  {
   "cell_type": "markdown",
   "metadata": {
    "colab_type": "text",
    "id": "XHbnFqpw_oAw"
   },
   "source": [
    "<a href=\"https://colab.research.google.com/github/Featuretools/featuretools/blob/colab/demo_notebooks/representing_data_with_entitysets.ipynb\" target=\"_parent\"><img src=\"https://colab.research.google.com/assets/colab-badge.svg\" alt=\"Open In Colab\"/></a>"
   ]
  },
  {
   "cell_type": "markdown",
   "metadata": {},
   "source": [
    "# Representing Data with EntitySets\n",
    "An ``EntitySet`` is a collection of entities and the relationships between them. They are useful for preparing raw, structured datasets for feature engineering. While many functions in Featuretools  take ``entities`` and ``relationships`` as separate arguments, it is recommended to create an ``EntitySet``, so you can more easily manipulate your data as needed."
   ]
  },
  {
   "cell_type": "markdown",
   "metadata": {
    "colab_type": "text",
    "id": "HjQ5lZwl_oA6"
   },
   "source": [
    "## Using Google Colab with Featuretools\n",
    "\n",
    "* Google [Colaboratory](http://colab.research.google.com) is a cloud service based on Jupyter Notebooks.\n",
    "* Using [Featuretools](http://www.featuretools.com) is simple as installing with pip and upgrading to the latest version. We need to make sure the correct version for pandas, and numpy are installed. "
   ]
  },
  {
   "cell_type": "code",
   "execution_count": null,
   "metadata": {
    "colab": {
     "base_uri": "https://localhost:8080/",
     "height": 69
    },
    "colab_type": "code",
    "id": "FvlyOIo7_oA7",
    "outputId": "c0aea859-21d2-419b-831a-e32e6fce099e"
   },
   "outputs": [],
   "source": [
    "!pip install featuretools --upgrade"
   ]
  },
  {
   "cell_type": "markdown",
   "metadata": {
    "colab_type": "text",
    "id": "Ktl6tUJGAYG0"
   },
   "source": [
    "### You will now need to restart the Google runtime in toolbar.\n",
    "* **Runtime -> Restart Runtime...**"
   ]
  },
  {
   "cell_type": "code",
   "execution_count": null,
   "metadata": {
    "colab": {
     "base_uri": "https://localhost:8080/",
     "height": 35
    },
    "colab_type": "code",
    "id": "XvvSVn77_1J6",
    "outputId": "478df794-3857-49d2-b898-79cac6ef91a2"
   },
   "outputs": [],
   "source": [
    "import featuretools as ft\n",
    "import pandas as pd\n",
    "import numpy as np\n",
    "\n",
    "print('featuretools == %s' % ft.__version__)\n",
    "print('pandas == %s' % pd.__version__)\n",
    "print('numpy == %s' % np.__version__)"
   ]
  },
  {
   "cell_type": "markdown",
   "metadata": {},
   "source": [
    "* Verify `featuretools` version is >= 0.6.0\n",
    "* Verify `pandas` version is >= 0.23.0\n",
    "* Verify `numpy` version is >= 1.13.3"
   ]
  },
  {
   "cell_type": "markdown",
   "metadata": {},
   "source": [
    "## The Raw Data\n",
    "Below we have a two tables of data (represented as Pandas DataFrames) related to customer transactions. The first is a merge of transactions, sessions, and customers so that the result looks like something you might see in a log file:\n"
   ]
  },
  {
   "cell_type": "code",
   "execution_count": null,
   "metadata": {},
   "outputs": [],
   "source": [
    "import featuretools as ft\n",
    "data = ft.demo.load_mock_customer()\n",
    "transactions_df = data[\"transactions\"].merge(data[\"sessions\"]).merge(data[\"customers\"])\n",
    "\n",
    "transactions_df.sample(10)"
   ]
  },
  {
   "cell_type": "markdown",
   "metadata": {},
   "source": [
    "And the second dataframe is a list of products involved in those transactions."
   ]
  },
  {
   "cell_type": "code",
   "execution_count": null,
   "metadata": {},
   "outputs": [],
   "source": [
    "products_df = data[\"products\"]\n",
    "products_df"
   ]
  },
  {
   "cell_type": "markdown",
   "metadata": {},
   "source": [
    "## Creating an EntitySet\n",
    "First, we initialize an EntitySet and give it an ``id``"
   ]
  },
  {
   "cell_type": "code",
   "execution_count": null,
   "metadata": {},
   "outputs": [],
   "source": [
    "es = ft.EntitySet()"
   ]
  },
  {
   "cell_type": "markdown",
   "metadata": {},
   "source": [
    "## Adding entities\n",
    "To get started, we load the transactions dataframe as an entity."
   ]
  },
  {
   "cell_type": "code",
   "execution_count": null,
   "metadata": {},
   "outputs": [],
   "source": [
    "es = es.entity_from_dataframe(entity_id=\"transactions\",\n",
    "                              dataframe=transactions_df,\n",
    "                              index=\"transaction_id\",\n",
    "                              time_index=\"transaction_time\",\n",
    "                              variable_types={\"product_id\": ft.variable_types.Categorical,\n",
    "                                              \"zip_code\": ft.variable_types.ZIPCode})\n",
    "es"
   ]
  },
  {
   "cell_type": "code",
   "execution_count": null,
   "metadata": {},
   "outputs": [],
   "source": [
    "es[\"transactions\"].variables"
   ]
  },
  {
   "cell_type": "markdown",
   "metadata": {},
   "source": [
    "In the call to ``entity_from_dataframe``, we specified three important parameters\n",
    "\n",
    "* The ``index`` parameter specifies the column that uniquely identifies rows in the dataframe\n",
    "* The ``time_index`` parameter tells Featuretools when the data was created.\n",
    "* The ``variable_types`` parameter indicates that \"product_id\" should be interpreted as a Categorical variable, even though it just an integer in the underlying data.\n",
    "\n",
    "\n",
    "Now, we can do that same thing with our products dataframe"
   ]
  },
  {
   "cell_type": "code",
   "execution_count": null,
   "metadata": {},
   "outputs": [],
   "source": [
    "es = es.entity_from_dataframe(entity_id=\"products\",\n",
    "                              dataframe=products_df,\n",
    "                              index=\"product_id\")\n",
    "\n",
    "es"
   ]
  },
  {
   "cell_type": "markdown",
   "metadata": {},
   "source": [
    "With two entities in our entity set, we can add a relationship between them.\n",
    "\n",
    "## Adding a Relationship\n",
    "We want to relate these two entities by the columns called \"product_id\" in each entity. Each product has multiple transactions associated with it, so it is called it the **parent entity**, while the transactions entity is known as the **child entity**. When specifying relationships we list the variable in the parent entity first. Note that each `ft.Relationship` must denote a one-to-many relationship rather than a relationship which is one-to-one or many-to-many.\n"
   ]
  },
  {
   "cell_type": "code",
   "execution_count": null,
   "metadata": {},
   "outputs": [],
   "source": [
    "new_relationship = ft.Relationship(es[\"products\"][\"product_id\"],\n",
    "                                   es[\"transactions\"][\"product_id\"])\n",
    "es = es.add_relationship(new_relationship)\n",
    "es"
   ]
  },
  {
   "cell_type": "markdown",
   "metadata": {},
   "source": [
    "Now, we see the relationship has been added to our entity set.\n",
    "\n",
    "## Creating entity from existing table\n",
    "\n",
    "When working with raw data, it is common to have sufficient information to justify the creation of new entities. In order to create a new entity and relationship for sessions, we \"normalize\" the transaction entity."
   ]
  },
  {
   "cell_type": "code",
   "execution_count": null,
   "metadata": {},
   "outputs": [],
   "source": [
    "es = es.normalize_entity(base_entity_id=\"transactions\",\n",
    "                         new_entity_id=\"sessions\",\n",
    "                         index=\"session_id\",\n",
    "                         make_time_index=\"session_start\",\n",
    "                         additional_variables=[\"device\", \"customer_id\", \"zip_code\", \"session_start\", \"join_date\"])\n",
    "\n",
    "es"
   ]
  },
  {
   "cell_type": "markdown",
   "metadata": {},
   "source": [
    "Looking at the output above, we see this method did two operations\n",
    "\n",
    "1. It created a new entity called \"sessions\" based on the \"session_id\" variable in \"transactions\"\n",
    "2. It added a relationship connecting \"transactions\" and \"sessions\".\n",
    "\n",
    "If we look at the variables in transactions and the new sessions entity, we see two more operations that were performed automatically."
   ]
  },
  {
   "cell_type": "code",
   "execution_count": null,
   "metadata": {},
   "outputs": [],
   "source": [
    "es[\"transactions\"].variables\n",
    "es[\"sessions\"].variables"
   ]
  },
  {
   "cell_type": "markdown",
   "metadata": {},
   "source": [
    "1. It removed \"device\", \"customer_id\", \"zip_code\", \"session_start\" and \"join_date\" from \"transactions\" and created a new variables in the sessions entity. This reduces redundant information as the those properties of a session don't change between transactions.\n",
    "2. It marked \"session_start\" as a time index in the new sessions entity to indicate the beginning of a session. By default, unless it's explicitly set to another variable, ``normalize_entity`` would have made a \"first_transactions_time\" in this entity. If we don't want this variable to be created, we can set ``make_time_index=False``.\n",
    "\n",
    "If we look at the dataframes, can see what the ``normalize_entity`` did to the actual data.\n"
   ]
  },
  {
   "cell_type": "code",
   "execution_count": null,
   "metadata": {},
   "outputs": [],
   "source": [
    "es[\"sessions\"].df.head(5)\n",
    "es[\"transactions\"].df.head(5)"
   ]
  },
  {
   "cell_type": "markdown",
   "metadata": {},
   "source": [
    "To finish preparing this dataset, create a \"customers\" entity using the same method call."
   ]
  },
  {
   "cell_type": "code",
   "execution_count": null,
   "metadata": {},
   "outputs": [],
   "source": [
    "es = es.normalize_entity(base_entity_id=\"sessions\",\n",
    "                         new_entity_id=\"customers\",\n",
    "                         index=\"customer_id\",\n",
    "                         make_time_index=\"join_date\",\n",
    "                         additional_variables=[\"zip_code\", \"join_date\"])\n",
    "es"
   ]
  },
  {
   "cell_type": "markdown",
   "metadata": {},
   "source": [
    "You can also display your entity set structure graphically by calling [EntitySet.plot](https://docs.featuretools.com/generated/featuretools.entityset.EntitySet.plot.html#featuretools.entityset.EntitySet.plot).\n",
    "This method loads each column in the dataframe in as a variable. We can see the variables in an entity using the code below."
   ]
  },
  {
   "cell_type": "code",
   "execution_count": null,
   "metadata": {},
   "outputs": [],
   "source": [
    "es.plot()"
   ]
  },
  {
   "cell_type": "markdown",
   "metadata": {},
   "source": [
    "## Using the EntitySet\n",
    "\n",
    "Finally, we are ready to use this EntitySet with any functionality within Featuretools. For example, let's build a feature matrix for each product in our dataset."
   ]
  },
  {
   "cell_type": "code",
   "execution_count": null,
   "metadata": {},
   "outputs": [],
   "source": [
    "feature_matrix, feature_defs = ft.dfs(entityset=es,\n",
    "                                      target_entity=\"products\")\n",
    "feature_matrix"
   ]
  },
  {
   "cell_type": "markdown",
   "metadata": {},
   "source": [
    "As we can see, the features from DFS use the relational structure of our entity set. Therefore it is important to think carefully about the entities that we create.\n",
    "\n",
    "## What's next?\n",
    "\n",
    "* Apply automated feature engineering with [Deep Feature Synthesis](https://colab.research.google.com/github/Featuretools/featuretools/blob/colab/demo_notebooks/deep_feature_synthesis.ipynb)\n",
    "* Learn about [feature primitives](https://colab.research.google.com/github/Featuretools/featuretools/blob/colab/demo_notebooks/feature_primitives.ipynb)\n",
    "* Can't find what you're looking for? Ask for [Help](https://docs.featuretools.com/help.html)"
   ]
  }
 ],
 "metadata": {
  "colab": {
   "name": "getting_started.ipynb",
   "provenance": [],
   "version": "0.3.2"
  },
  "kernelspec": {
   "display_name": "Python 3",
   "language": "python",
   "name": "python3"
  },
  "language_info": {
   "codemirror_mode": {
    "name": "ipython",
    "version": 3
   },
   "file_extension": ".py",
   "mimetype": "text/x-python",
   "name": "python",
   "nbconvert_exporter": "python",
   "pygments_lexer": "ipython3",
   "version": "3.6.8"
  }
 },
 "nbformat": 4,
 "nbformat_minor": 1
}
