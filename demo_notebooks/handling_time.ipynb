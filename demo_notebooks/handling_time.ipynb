{
 "cells": [
  {
   "cell_type": "markdown",
   "metadata": {
    "colab_type": "text",
    "id": "XHbnFqpw_oAw"
   },
   "source": [
    "<a href=\"https://colab.research.google.com/github/Featuretools/featuretools/blob/colab/demo_notebooks/handling_time\" target=\"_parent\"><img src=\"https://colab.research.google.com/assets/colab-badge.svg\" alt=\"Open In Colab\"/></a>"
   ]
  },
  {
   "cell_type": "markdown",
   "metadata": {
    "colab_type": "text",
    "id": "jbmcbY-A_oA4"
   },
   "source": [
    "Handling Time\n",
    "=============\n",
    "\n",
    "Time is a naturally relevant factor in many predictive modeling problems. Consider the following questions:\n",
    "\n",
    "1. How much revenue will I bring in next month?\n",
    "2. What is the expected delay on my next flight?\n",
    "3. Will my user purchase an upgrade to their membership?\n",
    "\n",
    "A good way to estimate how effective you are at predicting revenue would be to see how you would have done predicting it last month or the month before. You would similarly be interested in checking if you were able to predict the delay on your previous flight, or how good you are historically at detecting customers who would upgrade.\n",
    "\n",
    "However, it is immensely tricky to make a feature matrix by hand for those predictions. To create historical predictions you need to set a **time** to make a prediction for every row and then **cut off** any data in your dataset that happens after that time. Then, you can use the remaining valid data to make any features you like.\n",
    "\n",
    "Some of the most powerful functionality in Featuretools is the ability to accurately and precisely handle time. To make the most of that functionality, it is necessary to understand how :ref:`provided times <representing-time>` will be used."
   ]
  },
  {
   "cell_type": "markdown",
   "metadata": {
    "colab_type": "text",
    "id": "HjQ5lZwl_oA6"
   },
   "source": [
    "## Using Google Colab with Featuretools\n",
    "\n",
    "* Google [Colaboratory](http://colab.research.google.com) is a cloud service based on Jupyter Notebooks.\n",
    "* Using [Featuretools](http://www.featuretools.com) is simple as installing with pip and upgrading to the latest version. We need to make sure the correct version for pandas, and numpy are installed. "
   ]
  },
  {
   "cell_type": "code",
   "execution_count": null,
   "metadata": {
    "colab": {
     "base_uri": "https://localhost:8080/",
     "height": 69
    },
    "colab_type": "code",
    "id": "FvlyOIo7_oA7",
    "outputId": "c0aea859-21d2-419b-831a-e32e6fce099e"
   },
   "outputs": [],
   "source": [
    "!pip install featuretools --upgrade"
   ]
  },
  {
   "cell_type": "markdown",
   "metadata": {
    "colab_type": "text",
    "id": "Ktl6tUJGAYG0"
   },
   "source": [
    "### You will now need to restart the Google runtime in toolbar.\n",
    "* **Runtime -> Restart Runtime...**"
   ]
  },
  {
   "cell_type": "code",
   "execution_count": null,
   "metadata": {
    "colab": {
     "base_uri": "https://localhost:8080/",
     "height": 35
    },
    "colab_type": "code",
    "id": "XvvSVn77_1J6",
    "outputId": "478df794-3857-49d2-b898-79cac6ef91a2"
   },
   "outputs": [],
   "source": [
    "import featuretools as ft\n",
    "import pandas as pd\n",
    "import numpy as np\n",
    "\n",
    "print('featuretools == %s' % ft.__version__)\n",
    "print('pandas == %s' % pd.__version__)\n",
    "print('numpy == %s' % np.__version__)"
   ]
  },
  {
   "cell_type": "markdown",
   "metadata": {},
   "source": [
    "* Verify `featuretools` version is >= 0.6.0\n",
    "* Verify `pandas` version is >= 0.23.0\n",
    "* Verify `numpy` version is >= 1.13.3"
   ]
  },
  {
   "cell_type": "markdown",
   "metadata": {},
   "source": [
    "## Outline\n",
    "\n",
    "This page is the answer to the question *why should I pay attention to datetimes in my data?* There are two interconnected parts to that answer:\n",
    "\n",
    "1. What are the implications of setting a :ref:`time index <representing-time>`?\n",
    "2. How does Featuretools take in :ref:`predictions <cutoff-time>`?\n",
    "\n",
    "The first section shows explains how to handle the complexities that can come up when assigning times to your data and the second shows how to use those times to make rows of a feature matrix. While time can be a sticking point for our users, we have found that it's often a useful construct in utilizing data from the real world.\n",
    "\n",
    "## Introduction to the Time Index\n",
    "We'll start with the :func:`Mock Customer <demo.load_mock_customer>` entityset."
   ]
  },
  {
   "cell_type": "code",
   "execution_count": null,
   "metadata": {},
   "outputs": [],
   "source": [
    "import featuretools as ft\n",
    "import pandas as pd\n",
    "pd.options.display.max_columns = 200\n",
    "es_mc = ft.demo.load_mock_customer(return_entityset=True, random_seed=0)\n",
    "es_mc['transactions'].df.head()"
   ]
  },
  {
   "cell_type": "markdown",
   "metadata": {},
   "source": [
    "The ``transactions`` entity has one row for every transaction and a ``transaction_time`` for every row. The user has an option to set a **time index** for any entity they create, representing the first time information from the row can be used. In this example, most people would make the reasonable choice to set the ``transaction_time`` as the time index for the ``transactions`` entity. Not every datetime column is a time index, so the choice is not always straightforward. Consider the ``customers`` entity:"
   ]
  },
  {
   "cell_type": "code",
   "execution_count": null,
   "metadata": {},
   "outputs": [],
   "source": [
    "es_mc['customers'].df"
   ]
  },
  {
   "cell_type": "markdown",
   "metadata": {},
   "source": [
    "Here we have two time columns ``join_date`` and ``date_of_birth``. While either column might be useful for making features, the ``join_date`` should be used as the time index. It represents when the data owner learns about the existence of a given customer. Generically: *the time index is the first time anything from a row can be known to the dataset owner*. Rows are treated as non-existent prior to the time index. \n",
    "\n",
    "    > The **time index** is defined as the first time information from a row can be used. It represents the first time anything from a row can be known to the dataset owner.\n",
    "\n",
    "In databases, information tends to be written after an event has passed. This can be problematic on the machine learning side -- it's often necessary to ignore entire columns to avoid leaking labels. If you're interested in how to safely use those columns, the :ref:`advanced time index <flight-ti>` section below explores how time can used with a dataset from the US Department of Transportation. Before we get there, we're going to show how to make predictions using these time indices.\n",
    "\n",
    "## Introduction to Cutoff Times\n",
    "\n",
    "For a given :class:`EntitySet <EntitySet>`, there are many possible prediction problems that you might want to solve. Trying to predict customer purchases an hour in advance uses different data than trying to predict purchases a day in advance. Often, it's desirable to test multiple questions and explore which one you want to use. Featuretools makes that process easier through cutoff times.\n",
    "\n",
    "A **cutoff_time** dataframe is a concise way of passing complicated instructions to :func:`Deep Feature Synthesis <dfs>` (DFS). Each row contains a instance id, a time and optionally, a label. For every unique id-time pair, we will create a row of the feature matrix.\n",
    "\n",
    "Let's do a short example. We want to predict whether customers ``1``, ``2`` and ``3`` will spend $500 after ``04:00`` on January 1 by the end of the day. The ``time`` column emulates the way a human would make a historical prediction. It is an instruction to not use any future information constructing that row even if we have it in our entityset.\n",
    "\n",
    "   > A **cutoff_time** dataframe is a concise way of passing complicated instructions to Deep Feature Synthesis. For every id-time pair passed in, DFS creates a row of the feature matrix for that id at that time.\n",
    "\n",
    "\n",
    "In this case, we're making predictions for all three customers at the same time, ``2014-1-1 04:00`` so we set that as the second column. We have also checked that ``1`` and ``2`` will spend $500 while customer ``3`` will not, so we include those labels as a third column.\n",
    "\n",
    ".. image:: ../images/retail_ct.png\n",
    "   :width: 400 px\n",
    "   :alt: retail cutoff time diagram\n",
    "   :align: center\n",
    "\n",
    "We will use all of the information between the ``time_index`` of rows ``1``, ``2`` and ``3`` and the prediction time ``04:00 2014-1-1`` to make predictions about what will happen for the rest of the day."
   ]
  },
  {
   "cell_type": "code",
   "execution_count": null,
   "metadata": {},
   "outputs": [],
   "source": [
    "ct = pd.DataFrame()\n",
    "ct['customer_id'] = [1, 2, 3]\n",
    "ct['time'] = pd.to_datetime(['2014-1-1 04:00', \n",
    "                             '2014-1-1 04:00',\n",
    "                             '2014-1-1 04:00'])\n",
    "ct['label'] = [True, True, False]\n",
    "ct\n",
    "fm, features = ft.dfs(entityset=es_mc, \n",
    "                      target_entity='customers', \n",
    "                      cutoff_time=ct, \n",
    "                      cutoff_time_in_index=True)\n",
    "fm"
   ]
  },
  {
   "cell_type": "markdown",
   "metadata": {},
   "source": [
    "We made 74 features for the three customers using only data whose time index was before the cutoff time. Since you can specify the prediction time for every row, you have a lot of control over which data will be used for a given row of your feature matrix. An advanced use of cutoff times can be found in the :ref:`second part <flight-ct>` of the next section.\n",
    "\n",
    "## Advanced Scenarios\n",
    "The :func:`Flights <demo.load_flight>` entityset is a prototypical example of a dataset where an individual row can happen over time. Each trip is recorded in a ``trip_logs`` entity, and has many times associated to it.\n"
   ]
  },
  {
   "cell_type": "code",
   "execution_count": null,
   "metadata": {},
   "outputs": [],
   "source": [
    "es_flight = ft.demo.load_flight(nrows=100)\n",
    "es_flight\n",
    "es_flight['trip_logs'].df.head(3)"
   ]
  },
  {
   "cell_type": "markdown",
   "metadata": {},
   "source": [
    "For every trip we have real arrival and departure times and scheduled arrival and departure times.\n",
    "\n",
    "With the columns we have, it would be problematic for the ``scheduled_dep_time``, to be the time index: flights are scheduled far in advance!  If the time index were set to the scheduled departure time, we wouldn't be able to know anything about the flight at all until it was boarded. \n",
    "\n",
    "However, it's possible to know many things about a trip six months or more before it takes off; the trip distance, carrier, flight number and even when a flight is supposed to leave and land are always known before we buy a ticket. Our ``time_index`` exists to reflect the reality that those can be known much before the scheduled departure time.\n",
    "\n",
    "That being said, not all columns can be known at our time index six months in advance. If we were able to know the real arrival time of the plane before we booked, we would have great success in predicting delays! \n",
    "\n",
    ".. image:: ../images/flight_ti_1.png\n",
    "   :width: 400 px\n",
    "   :alt: flight time index diagram\n",
    "   :align: center\n",
    "\n",
    "In this diagram of a row, we have set the ``time_index`` to the time the flight was scheduled. However, any information about what happens to the flight after it departs is **invalid** for use at that time. If we were to use any of that information prior to when the flight lands, we would be leaking labels. \n",
    "\n",
    "While one option would be to remove that data from the entityset, a better option would be to use that data somehow. To that end, it's possible to set a ``secondary_time_index`` which can mark specific columns as available at a later date. The ``secondary_time_index`` of this row is set to the arrival time. \n",
    "\n",
    ".. image:: ../images/flight_ti_2.png\n",
    "   :width: 400 px\n",
    "   :alt: flight secondary time index diagram\n",
    "   :align: center\n",
    "\n",
    "By setting a ``secondary_time_index``, we can still use the delay information from a row, but only when they would become known. It's possible to know everything about how a trip went after it has arrived, so we can happily use that information at any time after the flight lands.\n",
    "\n",
    ".. hint::\n",
    "\n",
    "    It's often a good idea to use a secondary time index if your entityset has inline labels. If you know when the label would be valid for use, it's possible to automatically create very predictive features using historical labels.\n",
    "\n",
    "\n",
    "As an exercise, take a minute to think about which of the twenty two columns here can be known at each time index. Which can be known 6 months in advance and which would be better to only learn after the flight lands?"
   ]
  },
  {
   "cell_type": "code",
   "execution_count": null,
   "metadata": {},
   "outputs": [],
   "source": [
    "es_flight['trip_logs']"
   ]
  },
  {
   "cell_type": "markdown",
   "metadata": {},
   "source": [
    "+ These columns can be known at the ``time_index`` months before the flight: ``trip_log_id``, ``flight_date``, ``scheduled_dep_time``, ``scheduled_elapsed_time``, ``distance``, ``scheduled_arr_time``, ``time_index``, ``flight_id``\n",
    "\n",
    "+ These only be known at the ``secondary_time_index``, after the flight has completed: ``dep_delay``, ``taxi_out``, ``taxi_in``, ``arr_delay``, ``air_time``, ``carrier_delay``, ``weather_delay``, ``national_airspace_delay``, ``security_delay``, ``late_aircraft_delay``, ``dep_time``, ``arr_time``, ``cancelled``, ``diverted``\n",
    "\n",
    "An entity can have a third, hidden, time index called the ``last_time_index``. More details for that can be found in the `other temporal workflows <#training-window-and-the-last-time-index>`_ section.\n",
    "\n",
    ".. _flight-ct:\n",
    "\n",
    "Flight Predictions\n",
    "~~~~~~~~~~~~~~~~~~~\n",
    "\n",
    "Let's make features at some varying times in the flight example. Trip ``14`` is a flight from CLT to PHX on January 31 2017 and trip ``92`` is a flight from PIT to DFW on January 1. We can set any cutoff time before the flight is scheduled to depart, emulating how we would make the prediction at that point in time. \n",
    "\n",
    "We set two cutoff times for trip ``14`` at two different times: one which is more than a month before the flight and another which is only 5 days before. For trip ``92``, we'll only set one cutoff time three days before it is scheduled to leave. \n",
    "\n",
    ".. image:: ../images/flight_ct.png\n",
    "   :width: 500 px\n",
    "   :alt: flight cutoff time diagram\n",
    "   :align: center\n",
    "\n",
    "Our cutoff time dataframe looks like this:"
   ]
  },
  {
   "cell_type": "code",
   "execution_count": null,
   "metadata": {},
   "outputs": [],
   "source": [
    "ct_flight = pd.DataFrame()\n",
    "ct_flight['trip_log_id'] = [14, 14, 92]\n",
    "ct_flight['time'] = pd.to_datetime(['2016-12-28', \n",
    "                                    '2017-1-25',\n",
    "                                    '2016-12-28'])\n",
    "ct_flight['label'] = [True, True, False]\n",
    "ct_flight"
   ]
  },
  {
   "cell_type": "raw",
   "metadata": {},
   "source": [
    "These instructions say to build two rows for trip ``14`` using data from different times and one row for trip ``92``. Here's how DFS handles those instructions:"
   ]
  },
  {
   "cell_type": "code",
   "execution_count": null,
   "metadata": {},
   "outputs": [],
   "source": [
    "fm, features = ft.dfs(entityset=es_flight, \n",
    "                          target_entity='trip_logs', \n",
    "                          cutoff_time=ct_flight, \n",
    "                          cutoff_time_in_index=True)\n",
    "\n",
    "fm[['label', 'flight_id', 'flights.MAX(trip_logs.arr_delay)', 'MONTH(scheduled_dep_time)', 'DAY(scheduled_dep_time)']]"
   ]
  },
  {
   "cell_type": "markdown",
   "metadata": {},
   "source": [
    "There is a lot to unpack from this output:\n",
    "\n",
    "1. Even though one id showed up twice, a row was made for every id-time pair in ``ct_flight``. The id and cutoff time were returned as the index of the feature matrix.\n",
    "2. The output, and label, were sorted by the passed in ``time`` column. Because of the sorting, it's often helpful to pass in a label with the cutoff time dataframe so that it will remain sorted in the same way as the feature matrix. Any additional columns past the ``id`` and ``cutoff_time`` will not be used for making features.\n",
    "3. The column ``flights.MAX(trip_logs.arr_delay)`` is not always defined. It can only have real values when there are historical flights to aggregate. Since we excluded the arrival delay of this particular flight, there are no values to use!\n",
    "\n",
    "Notice that for trip ``14``, there wasn't historical data when we made the feature a month in advance, but there were flights from Charlotte to Phoenix before January 25 whose delay could be validly used. These are powerful features that are often excluded in manual processes because of how hard they are to make.\n",
    "\n",
    "## Other Settings\n",
    "\n",
    "### Training Window and the Last Time Index\n",
    "\n",
    "\n",
    "The training window in DFS limits the amount of past data that can be used while calculating a particular feature vector. In the same way that a cutoff time filters out data which appears after it, a training window will filter out data that appears too much earlier. Here's an example of a two hour training window:"
   ]
  },
  {
   "cell_type": "code",
   "execution_count": null,
   "metadata": {},
   "outputs": [],
   "source": [
    "window_fm, window_features = ft.dfs(entityset=es_mc,\n",
    "                                        target_entity=\"customers\",\n",
    "                                        cutoff_time=ct,\n",
    "                                        cutoff_time_in_index=True,\n",
    "                                        training_window=\"2 hours\")\n",
    "window_fm.head()"
   ]
  },
  {
   "cell_type": "markdown",
   "metadata": {},
   "source": [
    "This works well for :class:`entities <Entity>` where an instance occurs at a single point in time. However, sometimes an instance can happen at many points in time.\n",
    "\n",
    "For example, suppose a customer’s session has multiple transactions which can happen at different points in time. If we are trying to count the number of sessions a user had in a given time period, we often want to count all sessions that were active during the training window. To accomplish this, we need to not only know when a session starts, but when it ends. The last time that an instance appears in the data is stored as the ``last_time_index`` of an entity. We can compare the time index and the last time index of ``sessions``: "
   ]
  },
  {
   "cell_type": "code",
   "execution_count": null,
   "metadata": {},
   "outputs": [],
   "source": [
    "es_mc['sessions'].df['session_start'].head()\n",
    "es_mc['sessions'].last_time_index.head()"
   ]
  },
  {
   "cell_type": "markdown",
   "metadata": {},
   "source": [
    "It is possible to automatically add last time indexes to every entity in an :class:`EntitySet` by running :func:`EntitySet.add_last_time_indexes`. If a ``last_time_index`` has been set, Featuretools will check to see if the ``last_time_index`` is after the start of the training window. That, combined with the cutoff time, allows Deep Feature Synthesis to discover which data is relevant for a given training window.\n",
    "\n",
    "## Approximating features by rounding cutoff time\n",
    "\n",
    "If there are a large number of unique cutoff times relative to the number of instances for which we are calculating features, this overhead can outweigh the time needed to calculate the features. Therefore, by reducing the number of unique cutoff times, we minimize the overhead from searching for and extracting data for feature calculations.\n",
    "\n",
    "One way to decrease the number of unique cutoff times is to round cutoff times to an nearby earlier point in time. An earlier cutoff time is always valid for predictive modeling — it just means we’re not using some of the data we could potentially use while calculating that feature. In that way, we gain computational speed by losing some information.\n",
    "\n",
    "To understand when approximation is useful, consider calculating features for a model to predict fraudulent credit card transactions. In this case, an important feature might be, \"the average transaction amount for this card in the past\". While this value can change every time there is a new transaction, updating it less frequently might not impact accuracy.\n",
    "\n",
    ".. note::\n",
    "\n",
    "    The bank BBVA used approximation when building a predictive model for credit card fraud using Featuretools. For more details, see the \"Real-time deployment considerations\" section of the `white paper <https://arxiv.org/pdf/1710.07709.pdf>`_ describing the work.\n",
    "\n",
    "The frequency of approximation is controlled using the ``approximate`` parameter to DFS or :func:`calculate_feature_matrix`. For example, the following code would approximate aggregation features at 1 day intervals::\n",
    "```python\n",
    "fm = ft.calculate_feature_matrix(entityset=es_flight\n",
    "                                 cutoff_time=ct_flight,\n",
    "                                 approximate=\"1 day\")\n",
    "```"
   ]
  },
  {
   "cell_type": "markdown",
   "metadata": {},
   "source": [
    "In this computation, features that can be approximated will be calculated at 1 day intervals, while features that cannot be approximated (e.g \"what is the destination of this flight?\") will be calculated at the exact cutoff time.\n",
    "\n",
    "Creating and Flattening a Feature Tensor\n",
    "~~~~~~~~~~~~~~~~~~~~~~~~~~~~~~~~~~~~~~~~~~~~~~~~~~~~~~~~~~~~~~~\n",
    "\n",
    "The :func:`make_temporal_cutoffs` function generates a series of equally spaced cutoff times from a given set of cutoff times and instance ids.\n",
    "This function can be paired with DFS to create and flatten a feature tensor rather than making multiple feature matrices at different delays.\n",
    "\n",
    "The function\n",
    "takes in the the following parameters:\n",
    "\n",
    " * ``instance_ids (list, pd.Series, or np.ndarray)``: A list of instances.\n",
    " * ``cutoffs (list, pd.Series, or np.ndarray)``: An associated list of cutoff times.\n",
    " * ``window_size (str or pandas.DateOffset)``: The amount of time between each cutoff time in the created time series.\n",
    " * ``start (datetime.datetime or pd.Timestamp)``: The first cutoff time in the created time series.\n",
    " * ``num_windows (int)``: The number of cutoff times to create in the created time series.\n",
    "\n",
    "Only two of the three options ``window_size``, ``start``, and ``num_windows`` need to be specified to uninquely determine an equally-spaced set of cutoff times at which to compute each instance.\n",
    "\n",
    "If your cutoff times are the ones used above:"
   ]
  },
  {
   "cell_type": "code",
   "execution_count": null,
   "metadata": {},
   "outputs": [],
   "source": [
    "ct_flight"
   ]
  },
  {
   "cell_type": "markdown",
   "metadata": {},
   "source": [
    "Then passing in ``window_size='1h'`` and ``num_windows=2`` makes one row an hour over the last two hours to produce the following new dataframe. The result can be directly passed into DFS to make features at the different time points. "
   ]
  },
  {
   "cell_type": "code",
   "execution_count": null,
   "metadata": {},
   "outputs": [],
   "source": [
    "temporal_cutoffs = ft.make_temporal_cutoffs(ct['customer_id'],\n",
    "                                                ct['time'],\n",
    "                                                window_size='1h',\n",
    "                                                num_windows=2)\n",
    "temporal_cutoffs\n",
    "fm, features = ft.dfs(entityset=es_mc,\n",
    "                      target_entity='customers',\n",
    "                      cutoff_time=temporal_cutoffs,\n",
    "                      cutoff_time_in_index=True)\n",
    "fm"
   ]
  }
 ],
 "metadata": {
  "colab": {
   "name": "getting_started.ipynb",
   "provenance": [],
   "version": "0.3.2"
  },
  "kernelspec": {
   "display_name": "Python 3",
   "language": "python",
   "name": "python3"
  },
  "language_info": {
   "codemirror_mode": {
    "name": "ipython",
    "version": 3
   },
   "file_extension": ".py",
   "mimetype": "text/x-python",
   "name": "python",
   "nbconvert_exporter": "python",
   "pygments_lexer": "ipython3",
   "version": "3.6.8"
  }
 },
 "nbformat": 4,
 "nbformat_minor": 1
}
